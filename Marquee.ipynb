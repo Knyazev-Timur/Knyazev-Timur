{
  "nbformat": 4,
  "nbformat_minor": 0,
  "metadata": {
    "colab": {
      "name": "Marquee.ipynb",
      "provenance": [],
      "authorship_tag": "ABX9TyPfHhKg768R8u1/NAcZHssQ"
    },
    "kernelspec": {
      "name": "python3",
      "display_name": "Python 3"
    },
    "language_info": {
      "name": "python"
    }
  },
  "cells": [
    {
      "cell_type": "code",
      "execution_count": 1,
      "metadata": {
        "colab": {
          "base_uri": "https://localhost:8080/"
        },
        "id": "pxN4PcYYDzCS",
        "outputId": "72ce5f21-2b28-4f2b-937f-8f806fcace9a"
      },
      "outputs": [
        {
          "output_type": "stream",
          "name": "stdout",
          "text": []
        }
      ],
      "source": [
        "import time\n",
        "\n",
        "\n",
        "class Marquee:\n",
        "    \"\"\"\n",
        "    Marquee - создает бегущую строку\n",
        "              формирует строку, подготваливает ее к выврду,\n",
        "              и выводит с заданным шагом\n",
        "    \"\"\"\n",
        "\n",
        "    def prepare(self, marquee_text, space_before=0, space_after=0):\n",
        "        marquee_text = ' ' * space_before + marquee_text + ' ' * space_after\n",
        "        \"\"\" \n",
        "        Функция упрощает подготовку текста для вывода в бегущей строке,\n",
        "        добавляя заданное кол-во пробелов до и после текста\n",
        "        space_before - кол-во пробелов вначале строки\n",
        "        space_after - кол-во пробелов после строки\n",
        "        \"\"\"\n",
        "        return marquee_text\n",
        "\n",
        "    def engage(self,\n",
        "               marquee_text,\n",
        "               len_marquee=5,\n",
        "               speed_marque=0.3,\n",
        "               step_symbol=1,\n",
        "               locate=0):\n",
        "        \"\"\"\n",
        "        Запускает вывод строки с заданными параметрами:\n",
        "        marquee_text - выводимый текст (обязательный параметр)\n",
        "        len_marquee - кол-во выводимых символов в строке\n",
        "        speed_marque - время задержки перед выводом в сек.\n",
        "        step_symbol - шаг вывода символов\n",
        "                      (при отрицательном значении строка меняет направление)\n",
        "        locate - отступ перед строкой вывода\n",
        "        \"\"\"\n",
        "\n",
        "        if step_symbol < 0:\n",
        "            start_symbol, end_symbol = len(marquee_text), 0\n",
        "        else:\n",
        "            start_symbol, end_symbol = 0, len(marquee_text)\n",
        "\n",
        "        for symbol_index in range(start_symbol, end_symbol, step_symbol):\n",
        "            print(' ' * locate, end='')\n",
        "            print(marquee_text[symbol_index:symbol_index + len_marquee], end='')\n",
        "            time.sleep(speed_marque)\n",
        "            print(end='\\r')\n",
        "\n",
        "\n",
        "# Вызываем класс\n",
        "txt_mrq = Marquee()\n",
        "\n",
        "# создаем переменную с текстом\n",
        "text_for_marquee = 'Наглядный пример изменения строки при помощи экранирования, ' \\\n",
        "                   'среза, циклов и немного условий...'\n",
        "\n",
        "# метод prepare готовит при необходимости строку к выводу\n",
        "# добавляет к text_for_marquee 18 пробелов до и 20 пробелов после\n",
        "# чтобы строка выводилась постепенно и не обрывалась сразу после вывода,\n",
        "# до и после строки нужно добавить кол-во пробелов, не менее чем выводится символов\n",
        "new_txt_mrq = txt_mrq.prepare(text_for_marquee, 18, 20)\n",
        "\n",
        "# new_txt_mrq = new_txt_mrq [len(new_txt_mrq):0:-1]\n",
        "\n",
        "# запускает строку с текстом new_txt_mrq по 2 символа за раз,\n",
        "# длинной 17 символов и задержкой на вывод 03. сек\n",
        "# с отступом 5 символов\n",
        "txt_mrq.engage(new_txt_mrq, 17, 0.3, 2, 5)\n",
        "\n",
        "# То же самое одной строкой и вывод с другой стороны:\n",
        "txt_mrq.engage(txt_mrq.prepare(text_for_marquee, 20, 18), 17, 0.3, -2, 5)\n"
      ]
    }
  ]
}